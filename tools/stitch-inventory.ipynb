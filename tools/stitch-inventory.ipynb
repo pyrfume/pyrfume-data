{
 "cells": [
  {
   "cell_type": "code",
   "execution_count": 11,
   "id": "2a79dd12-70fc-4ee8-91cf-8224022ffe90",
   "metadata": {},
   "outputs": [],
   "source": [
    "from matplotlib.cm import get_cmap\n",
    "import numpy as np\n",
    "import pandas as pd\n",
    "import pyrfume\n",
    "from IPython.display import Markdown"
   ]
  },
  {
   "cell_type": "code",
   "execution_count": 2,
   "id": "581f4c8c-9556-47fd-86a8-447cd62affe5",
   "metadata": {},
   "outputs": [
    {
     "name": "stdout",
     "output_type": "stream",
     "text": [
      "No manifest found for: qian_2022\n"
     ]
    }
   ],
   "source": [
    "archives = pyrfume.list_archives()\n",
    "all_tags = []\n",
    "manifests = {}\n",
    "cmap = get_cmap('rainbow')\n",
    "\n",
    "# Skip over archives that are not for sole datasources\n",
    "for archive in archives:\n",
    "    if archive not in ['mordred', 'morgan', 'molecules', 'embedding', 'prediction_targets', 'tools']:\n",
    "        try:\n",
    "            manifests[archive] = pyrfume.load_manifest(archive)\n",
    "            tags = manifests[archive]['source'].get('tags')\n",
    "            if tags:\n",
    "                all_tags += tags.split(';')\n",
    "        except:\n",
    "            print('No manifest found for:', archive)"
   ]
  },
  {
   "cell_type": "code",
   "execution_count": 3,
   "id": "ce80d3f0",
   "metadata": {},
   "outputs": [],
   "source": [
    "all_tags = list(set(all_tags))\n",
    "\n",
    "classes = {'source': ['academic'],\n",
    "           'organism': ['rodent', 'human'],\n",
    "           'data': ['odorCharacter', 'intensity', 'receptorResponse', 'pleasantness', 'threshold', 'imaging',\n",
    "                    'familiarity', 'olfactoryBulb'],\n",
    "           'stimuli': ['mixtures']}\n",
    "\n",
    "colors = {all_tags[i]: cmap(x) for i, x in enumerate(np.linspace(0, 1, len(all_tags)))}\n",
    "colors = {key: ''.join([format(int(n*255), '02x') for n in val[:3]]) for key, val in colors.items()}"
   ]
  },
  {
   "cell_type": "code",
   "execution_count": 4,
   "id": "bfc4b8a1",
   "metadata": {},
   "outputs": [],
   "source": [
    "# Check that all the tags listed in manifests are accounted for, if any are missing, need to manually add to\n",
    "# the 'classes' dict above\n",
    "for t in all_tags:\n",
    "    if t not in list(set().union(*classes.values())):\n",
    "        print(t)"
   ]
  },
  {
   "cell_type": "code",
   "execution_count": 5,
   "id": "ecbd53d2",
   "metadata": {},
   "outputs": [],
   "source": [
    "markdown = \"\"\n",
    "\n",
    "for archive, manifest in manifests.items():\n",
    "    markdown += f\"[![{archive}](https://img.shields.io/static/v1?label=&nbsp;&message={archive}&color=eeeeee)](#) \"\n",
    "    tags = manifest['source'].get('tags')\n",
    "    if tags:\n",
    "        for tag in tags.split(';'):\n",
    "            class_options = [key for key, val in classes.items() if tag in val]\n",
    "            class_ = class_options[0] if class_options else '&nbsp;'\n",
    "            badge = f\"[![<{tag}>](https://img.shields.io/static/v1?label={class_}&message={tag}&color={colors.get(tag, '222222')})](#) \"\n",
    "            markdown += badge\n",
    "    markdown += \"<br>\""
   ]
  },
  {
   "cell_type": "code",
   "execution_count": 10,
   "id": "ddc3bcde-1b4b-48b2-9e50-4ba3a2eda303",
   "metadata": {},
   "outputs": [
    {
     "data": {
      "text/markdown": [
       "[![abraham_2012](https://img.shields.io/static/v1?label=&nbsp;&message=abraham_2012&color=eeeeee)](#) [![<human>](https://img.shields.io/static/v1?label=organism&message=human&color=ff0000)](#) [![<threshold>](https://img.shields.io/static/v1?label=data&message=threshold&color=5147fc)](#) [![<academic>](https://img.shields.io/static/v1?label=source&message=academic&color=96fca7)](#) <br>[![arctander_1960](https://img.shields.io/static/v1?label=&nbsp;&message=arctander_1960&color=eeeeee)](#) [![<human>](https://img.shields.io/static/v1?label=organism&message=human&color=ff0000)](#) [![<odorCharacter>](https://img.shields.io/static/v1?label=data&message=odorCharacter&color=c4e88a)](#) <br>[![aromadb](https://img.shields.io/static/v1?label=&nbsp;&message=aromadb&color=eeeeee)](#) [![<human>](https://img.shields.io/static/v1?label=organism&message=human&color=ff0000)](#) [![<odorCharacter>](https://img.shields.io/static/v1?label=data&message=odorCharacter&color=c4e88a)](#) <br>[![arshamian_2022](https://img.shields.io/static/v1?label=&nbsp;&message=arshamian_2022&color=eeeeee)](#) [![<human>](https://img.shields.io/static/v1?label=organism&message=human&color=ff0000)](#) [![<pleasantness>](https://img.shields.io/static/v1?label=data&message=pleasantness&color=3ae8d6)](#) [![<academic>](https://img.shields.io/static/v1?label=source&message=academic&color=96fca7)](#) <br>[![burton_2022](https://img.shields.io/static/v1?label=&nbsp;&message=burton_2022&color=eeeeee)](#) [![<rodent>](https://img.shields.io/static/v1?label=organism&message=rodent&color=2388f4)](#) [![<receptorResponse>](https://img.shields.io/static/v1?label=data&message=receptorResponse&color=0abfe8)](#) [![<academic>](https://img.shields.io/static/v1?label=source&message=academic&color=96fca7)](#) <br>[![bushdid_2014](https://img.shields.io/static/v1?label=&nbsp;&message=bushdid_2014&color=eeeeee)](#) [![<human>](https://img.shields.io/static/v1?label=organism&message=human&color=ff0000)](#) [![<odorCharacter>](https://img.shields.io/static/v1?label=data&message=odorCharacter&color=c4e88a)](#) [![<academic>](https://img.shields.io/static/v1?label=source&message=academic&color=96fca7)](#) <br>[![chae_2019](https://img.shields.io/static/v1?label=&nbsp;&message=chae_2019&color=eeeeee)](#) [![<rodent>](https://img.shields.io/static/v1?label=organism&message=rodent&color=2388f4)](#) [![<receptorResponse>](https://img.shields.io/static/v1?label=data&message=receptorResponse&color=0abfe8)](#) [![<academic>](https://img.shields.io/static/v1?label=source&message=academic&color=96fca7)](#) <br>[![dravnieks_1985](https://img.shields.io/static/v1?label=&nbsp;&message=dravnieks_1985&color=eeeeee)](#) [![<human>](https://img.shields.io/static/v1?label=organism&message=human&color=ff0000)](#) [![<odorCharacter>](https://img.shields.io/static/v1?label=data&message=odorCharacter&color=c4e88a)](#) [![<academic>](https://img.shields.io/static/v1?label=source&message=academic&color=96fca7)](#) <br>[![flavordb](https://img.shields.io/static/v1?label=&nbsp;&message=flavordb&color=eeeeee)](#) [![<human>](https://img.shields.io/static/v1?label=organism&message=human&color=ff0000)](#) [![<odorCharacter>](https://img.shields.io/static/v1?label=data&message=odorCharacter&color=c4e88a)](#) <br>[![flavornet](https://img.shields.io/static/v1?label=&nbsp;&message=flavornet&color=eeeeee)](#) [![<human>](https://img.shields.io/static/v1?label=organism&message=human&color=ff0000)](#) [![<odorCharacter>](https://img.shields.io/static/v1?label=data&message=odorCharacter&color=c4e88a)](#) <br>[![foodb](https://img.shields.io/static/v1?label=&nbsp;&message=foodb&color=eeeeee)](#) [![<human>](https://img.shields.io/static/v1?label=organism&message=human&color=ff0000)](#) [![<odorCharacter>](https://img.shields.io/static/v1?label=data&message=odorCharacter&color=c4e88a)](#) <br>[![foodcomex](https://img.shields.io/static/v1?label=&nbsp;&message=foodcomex&color=eeeeee)](#) <br>[![fragrancedb](https://img.shields.io/static/v1?label=&nbsp;&message=fragrancedb&color=eeeeee)](#) <br>[![freesolve](https://img.shields.io/static/v1?label=&nbsp;&message=freesolve&color=eeeeee)](#) [![<human>](https://img.shields.io/static/v1?label=organism&message=human&color=ff0000)](#) [![<odorCharacter>](https://img.shields.io/static/v1?label=data&message=odorCharacter&color=c4e88a)](#) <br>[![goodscents](https://img.shields.io/static/v1?label=&nbsp;&message=goodscents&color=eeeeee)](#) [![<human>](https://img.shields.io/static/v1?label=organism&message=human&color=ff0000)](#) [![<odorCharacter>](https://img.shields.io/static/v1?label=data&message=odorCharacter&color=c4e88a)](#) <br>[![gras](https://img.shields.io/static/v1?label=&nbsp;&message=gras&color=eeeeee)](#) <br>[![haddad_2008](https://img.shields.io/static/v1?label=&nbsp;&message=haddad_2008&color=eeeeee)](#) [![<human>](https://img.shields.io/static/v1?label=organism&message=human&color=ff0000)](#) [![<rodent>](https://img.shields.io/static/v1?label=organism&message=rodent&color=2388f4)](#) [![<academic>](https://img.shields.io/static/v1?label=source&message=academic&color=96fca7)](#) <br>[![ifra_2019](https://img.shields.io/static/v1?label=&nbsp;&message=ifra_2019&color=eeeeee)](#) [![<human>](https://img.shields.io/static/v1?label=organism&message=human&color=ff0000)](#) [![<odorCharacter>](https://img.shields.io/static/v1?label=data&message=odorCharacter&color=c4e88a)](#) <br>[![keller_2012](https://img.shields.io/static/v1?label=&nbsp;&message=keller_2012&color=eeeeee)](#) [![<human>](https://img.shields.io/static/v1?label=organism&message=human&color=ff0000)](#) [![<intensity>](https://img.shields.io/static/v1?label=data&message=intensity&color=f4bf69)](#) [![<pleasantness>](https://img.shields.io/static/v1?label=data&message=pleasantness&color=3ae8d6)](#) [![<odorCharacter>](https://img.shields.io/static/v1?label=data&message=odorCharacter&color=c4e88a)](#) [![<threshold>](https://img.shields.io/static/v1?label=data&message=threshold&color=5147fc)](#) [![<academic>](https://img.shields.io/static/v1?label=source&message=academic&color=96fca7)](#) <br>[![keller_2016](https://img.shields.io/static/v1?label=&nbsp;&message=keller_2016&color=eeeeee)](#) [![<human>](https://img.shields.io/static/v1?label=organism&message=human&color=ff0000)](#) [![<intensity>](https://img.shields.io/static/v1?label=data&message=intensity&color=f4bf69)](#) [![<pleasantness>](https://img.shields.io/static/v1?label=data&message=pleasantness&color=3ae8d6)](#) [![<familiarity>](https://img.shields.io/static/v1?label=data&message=familiarity&color=7f00ff)](#) [![<odorCharacter>](https://img.shields.io/static/v1?label=data&message=odorCharacter&color=c4e88a)](#) [![<academic>](https://img.shields.io/static/v1?label=source&message=academic&color=96fca7)](#) <br>[![knapsack](https://img.shields.io/static/v1?label=&nbsp;&message=knapsack&color=eeeeee)](#) <br>[![leffingwell](https://img.shields.io/static/v1?label=&nbsp;&message=leffingwell&color=eeeeee)](#) [![<human>](https://img.shields.io/static/v1?label=organism&message=human&color=ff0000)](#) [![<odorCharacter>](https://img.shields.io/static/v1?label=data&message=odorCharacter&color=c4e88a)](#) <br>[![leon](https://img.shields.io/static/v1?label=&nbsp;&message=leon&color=eeeeee)](#) [![<rodent>](https://img.shields.io/static/v1?label=organism&message=rodent&color=2388f4)](#) [![<imaging>](https://img.shields.io/static/v1?label=data&message=imaging&color=68fcc0)](#) [![<olfactoryBulb>](https://img.shields.io/static/v1?label=data&message=olfactoryBulb&color=ff8847)](#) <br>[![ma_2012](https://img.shields.io/static/v1?label=&nbsp;&message=ma_2012&color=eeeeee)](#) [![<rodent>](https://img.shields.io/static/v1?label=organism&message=rodent&color=2388f4)](#) [![<receptorResponse>](https://img.shields.io/static/v1?label=data&message=receptorResponse&color=0abfe8)](#) [![<academic>](https://img.shields.io/static/v1?label=source&message=academic&color=96fca7)](#) <br>[![ma_2021](https://img.shields.io/static/v1?label=&nbsp;&message=ma_2021&color=eeeeee)](#) [![<human>](https://img.shields.io/static/v1?label=organism&message=human&color=ff0000)](#) [![<intensity>](https://img.shields.io/static/v1?label=data&message=intensity&color=f4bf69)](#) [![<pleasantness>](https://img.shields.io/static/v1?label=data&message=pleasantness&color=3ae8d6)](#) [![<mixtures>](https://img.shields.io/static/v1?label=stimuli&message=mixtures&color=ff4724)](#) [![<academic>](https://img.shields.io/static/v1?label=source&message=academic&color=96fca7)](#) <br>[![mainland_2015](https://img.shields.io/static/v1?label=&nbsp;&message=mainland_2015&color=eeeeee)](#) [![<human>](https://img.shields.io/static/v1?label=organism&message=human&color=ff0000)](#) [![<receptorResponse>](https://img.shields.io/static/v1?label=data&message=receptorResponse&color=0abfe8)](#) [![<academic>](https://img.shields.io/static/v1?label=source&message=academic&color=96fca7)](#) <br>[![manoel_2021](https://img.shields.io/static/v1?label=&nbsp;&message=manoel_2021&color=eeeeee)](#) [![<rodent>](https://img.shields.io/static/v1?label=organism&message=rodent&color=2388f4)](#) [![<odorCharacter>](https://img.shields.io/static/v1?label=data&message=odorCharacter&color=c4e88a)](#) [![<academic>](https://img.shields.io/static/v1?label=source&message=academic&color=96fca7)](#) <br>[![mayhew_2022](https://img.shields.io/static/v1?label=&nbsp;&message=mayhew_2022&color=eeeeee)](#) [![<human>](https://img.shields.io/static/v1?label=organism&message=human&color=ff0000)](#) [![<academic>](https://img.shields.io/static/v1?label=source&message=academic&color=96fca7)](#) <br>[![nakayama_2022](https://img.shields.io/static/v1?label=&nbsp;&message=nakayama_2022&color=eeeeee)](#) [![<rodent>](https://img.shields.io/static/v1?label=organism&message=rodent&color=2388f4)](#) [![<odorCharacter>](https://img.shields.io/static/v1?label=data&message=odorCharacter&color=c4e88a)](#) [![<academic>](https://img.shields.io/static/v1?label=source&message=academic&color=96fca7)](#) <br>[![nat_geo_1986](https://img.shields.io/static/v1?label=&nbsp;&message=nat_geo_1986&color=eeeeee)](#) [![<human>](https://img.shields.io/static/v1?label=organism&message=human&color=ff0000)](#) [![<odorCharacter>](https://img.shields.io/static/v1?label=data&message=odorCharacter&color=c4e88a)](#) <br>[![nhanes_2014](https://img.shields.io/static/v1?label=&nbsp;&message=nhanes_2014&color=eeeeee)](#) [![<human>](https://img.shields.io/static/v1?label=organism&message=human&color=ff0000)](#) [![<odorCharacter>](https://img.shields.io/static/v1?label=data&message=odorCharacter&color=c4e88a)](#) <br>[![optical_rotation](https://img.shields.io/static/v1?label=&nbsp;&message=optical_rotation&color=eeeeee)](#) <br>[![prestwick](https://img.shields.io/static/v1?label=&nbsp;&message=prestwick&color=eeeeee)](#) <br>[![ravia_2020](https://img.shields.io/static/v1?label=&nbsp;&message=ravia_2020&color=eeeeee)](#) [![<human>](https://img.shields.io/static/v1?label=organism&message=human&color=ff0000)](#) [![<odorCharacter>](https://img.shields.io/static/v1?label=data&message=odorCharacter&color=c4e88a)](#) [![<mixtures>](https://img.shields.io/static/v1?label=stimuli&message=mixtures&color=ff4724)](#) [![<academic>](https://img.shields.io/static/v1?label=source&message=academic&color=96fca7)](#) <br>[![scott_2014](https://img.shields.io/static/v1?label=&nbsp;&message=scott_2014&color=eeeeee)](#) [![<rodent>](https://img.shields.io/static/v1?label=organism&message=rodent&color=2388f4)](#) [![<academic>](https://img.shields.io/static/v1?label=source&message=academic&color=96fca7)](#) <br>[![sharma_2021a](https://img.shields.io/static/v1?label=&nbsp;&message=sharma_2021a&color=eeeeee)](#) [![<odorCharacter>](https://img.shields.io/static/v1?label=data&message=odorCharacter&color=c4e88a)](#) <br>[![sharma_2021b](https://img.shields.io/static/v1?label=&nbsp;&message=sharma_2021b&color=eeeeee)](#) [![<human>](https://img.shields.io/static/v1?label=organism&message=human&color=ff0000)](#) [![<odorCharacter>](https://img.shields.io/static/v1?label=data&message=odorCharacter&color=c4e88a)](#) <br>[![sigma_2014](https://img.shields.io/static/v1?label=&nbsp;&message=sigma_2014&color=eeeeee)](#) [![<human>](https://img.shields.io/static/v1?label=organism&message=human&color=ff0000)](#) [![<odorCharacter>](https://img.shields.io/static/v1?label=data&message=odorCharacter&color=c4e88a)](#) <br>[![snitz_2013](https://img.shields.io/static/v1?label=&nbsp;&message=snitz_2013&color=eeeeee)](#) [![<human>](https://img.shields.io/static/v1?label=organism&message=human&color=ff0000)](#) [![<odorCharacter>](https://img.shields.io/static/v1?label=data&message=odorCharacter&color=c4e88a)](#) [![<mixtures>](https://img.shields.io/static/v1?label=stimuli&message=mixtures&color=ff4724)](#) [![<academic>](https://img.shields.io/static/v1?label=source&message=academic&color=96fca7)](#) <br>[![snitz_2019](https://img.shields.io/static/v1?label=&nbsp;&message=snitz_2019&color=eeeeee)](#) [![<human>](https://img.shields.io/static/v1?label=organism&message=human&color=ff0000)](#) [![<intensity>](https://img.shields.io/static/v1?label=data&message=intensity&color=f4bf69)](#) [![<odorCharacter>](https://img.shields.io/static/v1?label=data&message=odorCharacter&color=c4e88a)](#) [![<academic>](https://img.shields.io/static/v1?label=source&message=academic&color=96fca7)](#) <br>[![soh_2013](https://img.shields.io/static/v1?label=&nbsp;&message=soh_2013&color=eeeeee)](#) [![<rodent>](https://img.shields.io/static/v1?label=organism&message=rodent&color=2388f4)](#) <br>[![superscent](https://img.shields.io/static/v1?label=&nbsp;&message=superscent&color=eeeeee)](#) <br>[![t3db](https://img.shields.io/static/v1?label=&nbsp;&message=t3db&color=eeeeee)](#) <br>[![wakayama_2019](https://img.shields.io/static/v1?label=&nbsp;&message=wakayama_2019&color=eeeeee)](#) [![<human>](https://img.shields.io/static/v1?label=organism&message=human&color=ff0000)](#) [![<intensity>](https://img.shields.io/static/v1?label=data&message=intensity&color=f4bf69)](#) <br>[![weiss_2012](https://img.shields.io/static/v1?label=&nbsp;&message=weiss_2012&color=eeeeee)](#) [![<human>](https://img.shields.io/static/v1?label=organism&message=human&color=ff0000)](#) [![<odorCharacter>](https://img.shields.io/static/v1?label=data&message=odorCharacter&color=c4e88a)](#) [![<academic>](https://img.shields.io/static/v1?label=source&message=academic&color=96fca7)](#) <br>"
      ],
      "text/plain": [
       "<IPython.core.display.Markdown object>"
      ]
     },
     "execution_count": 10,
     "metadata": {},
     "output_type": "execute_result"
    }
   ],
   "source": [
    "Markdown(markdown)"
   ]
  },
  {
   "cell_type": "code",
   "execution_count": 7,
   "id": "a5ef8012-ee16-4675-9334-37552f120580",
   "metadata": {},
   "outputs": [],
   "source": [
    "# Write to inventory.md\n",
    "with open('inventory.md', 'w') as f:\n",
    "    f.write(markdown)"
   ]
  },
  {
   "cell_type": "code",
   "execution_count": 9,
   "id": "ba3618d8",
   "metadata": {},
   "outputs": [],
   "source": [
    "# Update README.md to display current inventory on Pyrfume-Data main page\n",
    "with open('../README.md', 'r') as f:\n",
    "    readme = [line for line in f]\n",
    "    \n",
    "readme[-1] = markdown\n",
    "\n",
    "with open('../README.md', 'w') as f:\n",
    "    for line in readme:\n",
    "        f.write(line)"
   ]
  }
 ],
 "metadata": {
  "kernelspec": {
   "display_name": "Python 3 (ipykernel)",
   "language": "python",
   "name": "python3"
  },
  "language_info": {
   "codemirror_mode": {
    "name": "ipython",
    "version": 3
   },
   "file_extension": ".py",
   "mimetype": "text/x-python",
   "name": "python",
   "nbconvert_exporter": "python",
   "pygments_lexer": "ipython3",
   "version": "3.9.12"
  }
 },
 "nbformat": 4,
 "nbformat_minor": 5
}
