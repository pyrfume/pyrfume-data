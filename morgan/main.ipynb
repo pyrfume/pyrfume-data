{
 "cells": [
  {
   "cell_type": "code",
   "execution_count": 1,
   "id": "94831ce9-f55c-454e-933b-3880cf32cb59",
   "metadata": {},
   "outputs": [],
   "source": [
    "import pandas as pd\n",
    "import pyrfume\n",
    "from pyrfume.features import smiles_to_mordred, smiles_to_morgan_sim\n",
    "from sklearn.impute import KNNImputer\n",
    "from sklearn.preprocessing import StandardScaler\n",
    "import os"
   ]
  },
  {
   "cell_type": "code",
   "execution_count": 2,
   "id": "7083a97f-33c2-4dd5-81bb-41f397fa6c33",
   "metadata": {},
   "outputs": [],
   "source": [
    "molecules = pyrfume.load_data('molecules/molecules.csv')\n",
    "smiles = molecules['IsomericSMILES']"
   ]
  },
  {
   "cell_type": "code",
   "execution_count": 3,
   "id": "39ffba14-f404-4c62-951c-d2b8b8bde73b",
   "metadata": {
    "scrolled": true,
    "tags": []
   },
   "outputs": [
    {
     "data": {
      "application/vnd.jupyter.widget-view+json": {
       "model_id": "b0a84efea95847f084388be2e4e82590",
       "version_major": 2,
       "version_minor": 0
      },
      "text/plain": [
       "  0%|          | 0/9984 [00:00<?, ?it/s]"
      ]
     },
     "metadata": {},
     "output_type": "display_data"
    },
    {
     "name": "stderr",
     "output_type": "stream",
     "text": [
      "Exception for CC[N+](CC)(CC)CCOC1=C(C(=CC=C1)OCC[N+](CC)(CC)CC)OCC[N+](CC)(CC)CC: Bad Conformer Id\n",
      "Exception for CC[N+](CC)(CC)CCOC1=C(C(=CC=C1)OCC[N+](CC)(CC)CC)OCC[N+](CC)(CC)CC.[I-].[I-].[I-]: Bad Conformer Id\n",
      "Exception for C[C@@H]1[C@H]([C@H](C[C@@H](O1)O[C@@H]2[C@H](O[C@H](C[C@@H]2O)O[C@@H]3[C@H](O[C@H](C[C@@H]3O)O[C@H]4CC[C@]5([C@@H](C4)CC[C@@H]6[C@@H]5CC[C@]7([C@@]6(CC[C@H]7C8=CC(=O)OC8)O)C)C)C)C)O)O: Bad Conformer Id\n",
      "Exception for CCCCOC(=O)CC(CC(=O)OCCCC)(C(=O)OCCCC)O: Bad Conformer Id\n",
      "Exception for CCO[Si](OCC)(OCC)OCC: Bad Conformer Id\n",
      "Exception for CCCCN(CCCC)CCCC: Bad Conformer Id\n",
      "Exception for C[C@]12CC[C@@H](C1(C)C)C[C@H]2O: Bad Conformer Id\n",
      "Exception for C[C@]12CCCC(C3[C@@H]1CCC3C2=C)(C)C: Bad Conformer Id\n",
      "Exception for C[C@@]12CC[C@H](C1(C)C)C[C@@H]2O: Bad Conformer Id\n",
      "Exception for CCCCCCCC(=O)OCC(COC(=O)CCCCCCC)OC(=O)CCCCCCC: Bad Conformer Id\n",
      "Exception for CCCCCCCCCCCCCCCCCC(=O)OCC(COC(=O)CCCCCCCCCCCCCCCCC)OC(=O)CCCCCCCCCCCCCCCCC: Bad Conformer Id\n",
      "Exception for CC[C@@H]1[C@@]([C@@H]([C@H](C(=O)[C@@H](C[C@@]([C@@H]([C@H]([C@@H]([C@H](C(=O)O1)C)O[C@H]2C[C@@]([C@H]([C@@H](O2)C)O)(C)OC)C)O[C@H]3[C@@H]([C@H](C[C@H](O3)C)N(C)C)O)(C)O)C)C)O)(C)O: Bad Conformer Id\n",
      "Exception for CCCCCCCCCCCCCCCCCC(=O)OCC(C)C: Bad Conformer Id\n",
      "Exception for C[C@]12CC[C@](C[C@H]1C3=CC(=O)[C@@H]4[C@]5(CC[C@@H](C([C@@H]5CC[C@]4([C@@]3(CC2)C)C)(C)C)O[C@@H]6[C@@H]([C@H]([C@@H]([C@H](O6)C(=O)O)O)O)O[C@H]7[C@@H]([C@H]([C@@H]([C@H](O7)C(=O)O)O)O)O)C)(C)C(=O)O: Bad Conformer Id\n",
      "Exception for FS(F)(F)(F)(F)F: Bad Conformer Id\n",
      "Exception for Cl[Sb](Cl)(Cl)(Cl)Cl: Bad Conformer Id\n",
      "Exception for FP(F)(F)(F)F: Bad Conformer Id\n",
      "Exception for F[Sb](F)(F)(F)F: Bad Conformer Id\n",
      "Exception for F[Te](F)(F)(F)(F)F: Bad Conformer Id\n",
      "Exception for P(Cl)(Cl)(Cl)(Cl)Cl: Bad Conformer Id\n",
      "Exception for F[Si-2](F)(F)(F)(F)F.[Na+].[Na+]: Python argument types in\n",
      "    rdkit.Chem.rdmolops.GetMolFrags(NoneType)\n",
      "did not match C++ signature:\n",
      "    GetMolFrags(class RDKit::ROMol mol, bool asMols=False, bool sanitizeFrags=True, class boost::python::api::object frags=None, class boost::python::api::object fragsMolAtomMapping=None)\n",
      "Exception for [NH4+].[NH4+].F[Si-2](F)(F)(F)(F)F: Python argument types in\n",
      "    rdkit.Chem.rdmolops.GetMolFrags(NoneType)\n",
      "did not match C++ signature:\n",
      "    GetMolFrags(class RDKit::ROMol mol, bool asMols=False, bool sanitizeFrags=True, class boost::python::api::object frags=None, class boost::python::api::object fragsMolAtomMapping=None)\n",
      "Exception for CCCCCCCCCCCCCCCCCCC(=O)OCC: Bad Conformer Id\n",
      "Exception for CCCCCCCCC=CCCCCCCCC(=O)OCC(COC(=O)CCCCCCCC=CCCCCCCCC)OC(=O)CCCCCCCC=CCCCCCCCC: Bad Conformer Id\n",
      "Exception for CCOC(OCC)OCC: Bad Conformer Id\n",
      "Exception for CC(=O)OC[C@@H]1[C@H]([C@@H]([C@H]([C@H](O1)O[C@]2([C@H]([C@@H]([C@H](O2)COC(=O)C)OC(=O)C)OC(=O)C)COC(=O)C)OC(=O)C)OC(=O)C)OC(=O)C: Bad Conformer Id\n",
      "Exception for CO[C@H]1[C@@H](C[C@@H]2CN3CCC4=C([C@H]3C[C@@H]2[C@@H]1C(=O)OC)NC5=C4C=CC(=C5)OC)OC(=O)C=CC6=CC(=C(C(=C6)OC)OC)OC: Bad Conformer Id\n",
      "Exception for CC[C@H](C)C(=O)O[C@H]1C[C@H](C=C2[C@H]1[C@H]([C@H](C=C2)C)CC[C@@H]3C[C@H](CC(=O)O3)O)C: Bad Conformer Id\n",
      "Exception for C[C@@]12CC[C@H](C1(C)C)C[C@H]2O: Bad Conformer Id\n",
      "Exception for CC(=O)O[C@@H]1C[C@@H]2CC[C@@]1(C2(C)C)C: Bad Conformer Id\n",
      "Exception for Cl[Mo](Cl)(Cl)(Cl)Cl: Pre-condition Violation\n",
      "\tbad params pointer\n",
      "\tViolation occurred on line 75 in file Code\\ForceField\\UFF\\AngleBend.cpp\n",
      "\tFailed Expression: at2Params\n",
      "\tRDKIT: 2022.03.2\n",
      "\tBOOST: 1_74\n",
      "\n",
      "Exception for C[C@]12CC[C@](C[C@H]1C3=CC(=O)[C@@H]4[C@]5(CC[C@@H](C([C@@H]5CC[C@]4([C@@]3(CC2)C)C)(C)C)O[C@@H]6[C@@H]([C@H]([C@@H]([C@H](O6)C(=O)O)O)O)O[C@H]7[C@@H]([C@H]([C@@H]([C@H](O7)C(=O)O)O)O)O)C)(C)C(=O)O.N: Bad Conformer Id\n",
      "Exception for CCCCCCCCCCCCCCCCCC(=O)NCCCN(C)C.CC(C(=O)O)O: Bad Conformer Id\n",
      "Exception for CO[C@H]1C(C(C([C@H](O1)COCCO)OCCO)OCCO)OCCO: Bad Conformer Id\n",
      "Exception for FS(F)(F)(F)(F)S(F)(F)(F)(F)F: Bad Conformer Id\n",
      "Exception for CCCCCCCCCCCCCCCCOP(=O)(O)OCCCCCCCCCCCCCCCC: Bad Conformer Id\n",
      "Exception for CCCCCCCC[C@@H]1[C@@H](O1)CCCCCCCCCCCC(=O)O: Bad Conformer Id\n",
      "Exception for CC(=CCCC(=CCOC(CC1=CC=CC=C1)OCC=C(C)CCC=C(C)C)C)C: Bad Conformer Id\n",
      "Exception for CC(C)CC(OCC(C)C)OCC(C)C: Bad Conformer Id\n",
      "Exception for CCCCCCCCC(CCCCCC)CO: Bad Conformer Id\n",
      "Exception for CC(C)CCCCCCCCCCOC(CC(C)CCC=C(C)C)OCCCCCCCCCCC(C)C: Bad Conformer Id\n",
      "Exception for CCOC(C1CC2CC1C3C2CC=C3)OCC: Bad Conformer Id\n",
      "Exception for CC(C)CCCCCCCCCCOC(CC(C)CCCC(C)(C)O)OCCCCCCCCCCC(C)C: Bad Conformer Id\n",
      "Exception for CCCCCC(=CC1=CC=CC=C1)C(OCC)OCC: Bad Conformer Id\n",
      "Exception for CC1=C2CC(C(C1)C(C2)C(C)C)C=O: Bad Conformer Id\n",
      "Exception for CC1=C2CC(C(C1)C(C2)C(=O)C)C(C)C: Bad Conformer Id\n",
      "Exception for CC(C)CCOC(CC1=CC=CC=C1)OCCC(C)C: Bad Conformer Id\n",
      "Exception for CCC(COC(=O)CCCCCCCCCCCCCCC(C)C)(COC(=O)CCCCCCCCCCCCCCC(C)C)COC(=O)CCCCCCCCCCCCCCC(C)C: Bad Conformer Id\n",
      "Exception for CCCCC(CC)C(=O)OCC(COC(=O)C(CC)CCCC)OC(=O)C(CC)CCCC: Bad Conformer Id\n",
      "Exception for CCCCCCOC(CCCCC)OCCCCCC: Bad Conformer Id\n",
      "Exception for C[C@@]12CC[C@H](C1)C([C@]2(C)O)(C)C: Bad Conformer Id\n",
      "Exception for [H+].[H+].O.O.O.O.O.O.Cl[Pt-2](Cl)(Cl)(Cl)(Cl)Cl: Bad Conformer Id\n",
      "Exception for CC(C)[C@@H]1CC[C@@]2([C@H]1[C@@H]3C(=C)CC[C@@H]2S3)C: Bad Conformer Id\n",
      "Exception for C(CN(CC(=O)[O-])CC(=O)[O-])N(CC(=O)[O-])CC(=O)[O-].[Na+].[Na+].[Mg+2]: Bad Conformer Id\n",
      "Exception for CCCCCCCCC[C@@H](CC(=O)CCC1=CC(=C(C=C1)O)OC)O: Bad Conformer Id\n",
      "Exception for CC(C)CCCCCCCCCCCCCCC(=O)OCC(COC(=O)CCCCCCCCCCCCCCC(C)C)OC(=O)CCCCCCCCCCCCCCC(C)C: Bad Conformer Id\n",
      "Exception for CC(C)CCCCCCCCCCCCCCC(=O)OCC(COC(=O)CCCCCCCCCCCCCCC(C)C)(COC(=O)CCCCCCCCCCCCCCC(C)C)COC(=O)CCCCCCCCCCCCCCC(C)C: Bad Conformer Id\n",
      "Exception for CC(=O)C1(CC2(C(O1)(OC(O2)(C)C(=O)C)C)O)C: Bad Conformer Id\n",
      "Exception for C[C@]1(CCC23COC4([C@H]2C1)CC[C@@H]5[C@]6(CC[C@@H](C(C6CC[C@]5([C@@]4(C[C@H]3O)C)C)(C)C)O[C@H]7[C@@H]([C@H]([C@H](CO7)O[C@H]8[C@@H]([C@H]([C@@H](CO8)O)O)O)O[C@@H]9[C@@H]([C@H]([C@@H]([C@H](O9)CO)O)O)O)O[C@H]1[C@@H]([C@H]([C@@H]([C@H](O1)CO)O)O)O[C@@H]1[C@@H]([C@H]([C@@H]([C@H](O1)CO)O)O)O)C)C=O: Bad Conformer Id\n",
      "Exception for CC(=O)OCC1C(C(C(C(O1)OC2(C(C(C(O2)COC(=O)C)OC(=O)C)OC(=O)C)COC(=O)C)OC(=O)C)OC(=O)C)OC(=O)C: Bad Conformer Id\n",
      "Exception for C[C@]12CC[C@@H](C1(C)C)C[C@@H]2OC: Bad Conformer Id\n",
      "Exception for C[C@]12CC[C@@H](C1(C)C)C[C@@H]2O: Bad Conformer Id\n",
      "Exception for C[C@@]12CC[C@H](C1(C)C)CC2=O: Bad Conformer Id\n",
      "Exception for CCCC(=O)O[C@H]1C[C@H]2CC[C@]1(C2(C)C)C: Bad Conformer Id\n",
      "Exception for CC(=O)O[C@H]1C[C@H]2CC[C@]1(C2(C)C)C: Bad Conformer Id\n",
      "Exception for CC(C)CC(=O)O[C@@H]1C[C@H]2CC[C@]1(C2(C)C)C: Bad Conformer Id\n",
      "Exception for C[C@]12CC[C@@H](C1(C)C)C[C@H]2OC(=O)C3=CC=CC=C3O: Bad Conformer Id\n",
      "Exception for CCCCCCC(OCCCC)OCCCC: Bad Conformer Id\n",
      "Exception for CC(C)[C@]12CC[C@@]([C@@H]1C2)(C)O: Bad Conformer Id\n",
      "Exception for C[C@@H]1[C@H]([C@H](C[C@@H](O1)O[C@@H]2[C@H](O[C@H](C[C@@H]2O)O[C@@H]3[C@H](O[C@H](C[C@@H]3O)O[C@H]4CC[C@]5([C@@H](C4)CC[C@@H]6[C@@H]5CC[C@]7([C@@]6(CC[C@@H]7C8=CC(=O)OC8)O)C)C)C)C)O)O: Bad Conformer Id\n",
      "Exception for CCCCCCCCC=CCCCCCCCC(=O)OCCOCC(C1C(C(CO1)OCCO)OCCO)OCCO: Bad Conformer Id\n",
      "Exception for CC(=CCC/C(=C/C=C/C(=C/C=C/C(=C/C=C/C=C(/C=C/C=C(/C=C/C=C(/CCC=C(C)C)\\C)\\C)\\C)/C)/C)/C)C: Bad Conformer Id\n",
      "Exception for CC(C)COC(C(C)C)OCC(C)C: Bad Conformer Id\n",
      "Exception for CC(=CCC/C(=C/CC/C(=C/CC/C=C(/CC/C=C(/CCC=C(C)C)\\C)\\C)/C)/C)C: Bad Conformer Id\n",
      "Exception for C[C@@H]1[C@H]([C@H](C[C@@H](O1)O[C@@H]2[C@H](O[C@H](C[C@@H]2O)O[C@@H]3[C@H](O[C@H](C[C@@H]3O)O[C@H]4CC[C@]5([C@@H](C4)CC[C@@H]6[C@@H]5C[C@H]([C@]7([C@@]6(CC[C@@H]7C8=CC(=O)OC8)O)C)O)C)C)C)O)O: Bad Conformer Id\n",
      "Exception for CC(C)C(=O)OC[C@@]1([C@H]([C@@H]([C@H](O1)COC(=O)C)OC(=O)C(C)C)OC(=O)C(C)C)O[C@@H]2[C@@H]([C@H]([C@@H]([C@H](O2)COC(=O)C)OC(=O)C(C)C)OC(=O)C(C)C)OC(=O)C(C)C: Bad Conformer Id\n",
      "Exception for CCCCCCCCCCCCCCCC(=O)OCCCCCCC: Bad Conformer Id\n",
      "Exception for CCCCCCCCCCOC(=O)CCCCCCCCCCCCCCC(C)C: Bad Conformer Id\n",
      "Exception for CCCCCCCCCCCCCCCC(=O)OC[C@@H]1[C@H]([C@@H]([C@H]([C@H](O1)OC[C@@H]2[C@H]([C@@H]([C@H]([C@H](O2)O[C@@H]3[C@H](O[C@@H]([C@@H]([C@H]3O)O)O)CO)O)O)O)O)O)O[C@@H]4[C@@H]([C@H]([C@@H]([C@H](O4)CO)O)O)O: Bad Conformer Id\n",
      "Exception for CC(COCC1C(C(C(C(O1)OC2C(OC(C(C2OCC(C)O)OCC(C)O)OCC(C)O)COCC(C)O)OCC(C)O)OCC(C)O)OCC(C)O)O: Bad Conformer Id\n"
     ]
    },
    {
     "name": "stderr",
     "output_type": "stream",
     "text": [
      "Exception for CC1=C(C(CCC1)(C)C)/C=C/C(=C/C=C/C(=C/C=C/C=C(/C=C/C=C(/C=C/C2=C(CCCC2(C)C)C)\\C)\\C)/C)/C: Bad Conformer Id\n",
      "Exception for C[C@H]1[C@@H]([C@H]([C@H]([C@@H](O1)OC[C@@H]2[C@H]([C@@H]([C@H]([C@@H](O2)OC3=CC(=C4C(=C3)OC(=CC4=O)C5=CC(=C(C=C5)OC)O)O)O)O)O)O)O)O: Bad Conformer Id\n",
      "Exception for CCCCCCCC/C=C/CCCCCCCC(=O)OCCOCC(C1C(C(CO1)OCCO)OCCO)OCCO: Bad Conformer Id\n",
      "Exception for CC1=CC(=CC2=C1C=CC(=O)O2)NC(=O)[C@H](CCCN=C(N)N)NC(=O)[C@H](CO)NC(=O)[C@H](CC3=CC=CC=C3)NC(=O)OC(C)(C)C.CC(=O)O: Bad Conformer Id\n",
      "Exception for CCCCCCC(O)C/C=C/CCCCCCCC(=O)OCC(OC(=O)CCCCCCC/C=C/CC(O)CCCCCC)COC(=O)CCCCCCC/C=C/CC(O)CCCCCC: Bad Conformer Id\n",
      "Exception for CCCCCC[C@H](C/C=C\\CCCCCCCC(=O)OCCCC)O: Bad Conformer Id\n",
      "Exception for CCCCCCCC/C=C\\CCCCCCCC(=O)OCCCCC: Bad Conformer Id\n",
      "Exception for CC1=C(C(CCC1)(C)C)/C=C(/C)\\C(=O)C: Bad Conformer Id\n",
      "Exception for CCCCCCCCCCCCCCCCCC(=O)O[C@@]1([C@@H]([C@H]([C@@H]([C@H](O1)CO)O)O)O)[C@@]2([C@H]([C@@H]([C@H](O2)CO)O)O)CO: Bad Conformer Id\n",
      "Exception for CCCCCCCCCCCCCCCCCC(=O)O[C@@H]1[C@H]([C@@H]([C@H](O[C@]1([C@@]2([C@H]([C@@H]([C@H](O2)CO)O)O)CO)OC(=O)CCCCCCCCCCCCCCCCC)CO)O)O: Bad Conformer Id\n",
      "Exception for CCCCCCCC/C=C/CCCCCCCC(=O)OCC(OC(=O)CCCCCCC/C=C/CCCCCCCC)COC(=O)CCCCCCC/C=C/CCCCCCCC: Bad Conformer Id\n",
      "Exception for CC[N+](CC)(CC)CCOC1=C(C(=CC=C1)OCC[N+](CC)(CC)CC)OCC[N+](CC)(CC)CC.[I-]: Bad Conformer Id\n",
      "Exception for CC1=CC2=C(C=C1C)N(C=N2)[C@@H]3[C@@H]([C@@H]([C@H](O3)CO)OP(=O)([O-])O[C@H](C)CNC(=O)CC[C@@]\\4([C@H]([C@@H]5[C@]6([C@@]([C@@H](C(=N6)/C(=C\\7/[C@@]([C@@H](C(=N7)/C=C\\8/C([C@@H](C(=N8)/C(=C4\\[N-]5)/C)CCC(=O)N)(C)C)CCC(=O)N)(C)CC(=O)N)/C)CCC(=O)N)(C)CC(=O)N)C)CC(=O)N)C)O.[Co]: Bad Conformer Id\n",
      "Exception for CCCCCCCC/C=C\\CCCCCCCC(=O)OCC(OC(=O)CCCCCCC/C=C\\CCCCCCCC)COC(=O)CCCCCCC/C=C\\CCCCCCCC: Bad Conformer Id\n",
      "Exception for C[C@@H]1C/C=C/C=C/[C@@H]([C@@H](C[C@@H]([C@@H]([C@H]([C@@H](CC(=O)O1)O)OC)OC2C(C(C(C(O2)C)OC3CC(C(C(O3)C)O)(C)O)N(C)C)O)CC=O)C)OC4CCC(C(O4)C)N(C)C: Bad Conformer Id\n",
      "Exception for CC(=CCC/C(=C/CC/C(=C/CC/C(=C/CC/C(=C/CO)/C)/C)/C)/C)C: Bad Conformer Id\n",
      "Exception for CCCCCCCC/C=C\\CCCCCCCC(=O)OCCCCCCC: Bad Conformer Id\n",
      "Exception for C[C@@H]1[C@H]2C[C@@H](C2(C)C)CC1=O: Bad Conformer Id\n",
      "Exception for CCCCCCCC/C=C\\CCCCCCCC(=O)OC[C@H]([C@@H]1[C@@H]([C@H](CO1)O)O)O: Bad Conformer Id\n",
      "Exception for CCCCOC(=O)CC(C(C(=O)C)C(=O)OCCCC)(C(=O)OCCCC)O: Bad Conformer Id\n",
      "Exception for CCCCCCCCCCCCCCCCCCCCCC(=O)NCCC1=CNC2=CC=CC=C21: Bad Conformer Id\n",
      "Exception for [CH3-].CC1=CC2=C(C=C1C)N(C=N2)[C@@H]3[C@@H]([C@@H]([C@H](O3)CO)OP(=O)([O-])OC(C)CNC(=O)CC[C@@]4([C@H]([C@@H]5[C@]6([C@@]([C@@H](/C(=C(/C7=N/C(=C\\C8=N/C(=C(\\C4=N5)/C)/[C@H](C8(C)C)CCC(=O)N)/[C@H]([C@]7(C)CC(=O)N)CCC(=O)N)\\C)/[N-]6)CCC(=O)N)(C)CC(=O)N)C)CC(=O)N)C)O.[Co+3]: Bad Conformer Id\n",
      "Exception for CC[C@H](C)[C@H]1C(=O)N[C@@H](C(=O)N[C@H](C(=O)N[C@@H](C(=O)N[C@H](C(=O)NCCCC[C@@H](C(=O)N[C@@H](C(=O)N1)CCCN)NC(=O)[C@H]([C@@H](C)CC)NC(=O)[C@@H](CCC(=O)O)NC(=O)[C@H](CC(C)C)NC(=O)[C@@H]2CSC(=N2)[C@H]([C@@H](C)CC)N)CC(=O)N)CC(=O)O)CC3=CN=CN3)CC4=CC=CC=C4: Bad Conformer Id\n",
      "Exception for CC(C)CCCCCCCCCCCCCCC(=O)OCC(COCC(COC(=O)CCCCCCCCCCCCCCC(C)C)OC(=O)CCCCCCCCCCCCCCC(C)C)O: Bad Conformer Id\n",
      "Exception for CC1[C@H]2C[C@@]2(C[C@H]1O)C(C)C: Bad Conformer Id\n",
      "Exception for CC1=C(C(CCC1)(C)C)C(=O)/C=C/C(=C/C=C/C(=C/C=C/C=C(\\C)/C=C/C=C(\\C)/C=C/C2=C(CC(CC2(C)C)O)C)/C)/C.CC1=C(C(CC(C1)O)(C)C)/C=C/C(=C/C=C/C(=C/C=C/C=C(\\C)/C=C/C=C(\\C)/C=C/C(=O)/C=C(\\C)/CCC=C(C)C)/C)/C.CC1=C(C(CC(C1)O)(C)C)/C=C/C(=C/C=C/C(=C/C=C/C=C(\\C)/C=C/C=C(\\C)/C=C/C(=O)C2C(=CCCC2(C)C)C)/C)/C.CC1=C(C(CC(C1)O)(C)C)/C=C/C(=C/C=C/C(=C/C=C/C=C(\\C)/C=C/C=C(\\C)/C=C/C(=O)C2(CC(CC2(C)C)O)C)/C)/C.CC(C)/C=C/CCCCC(=O)NCC1=CC(=C(C=C1)O)OC: Bad Conformer Id\n",
      "Exception for CCCCCCC(O)C/C=C\\CCCCCCCC(=O)OCC(OC(=O)CCCCCCC/C=C\\CC(O)CCCCCC)COC(=O)CCCCCCC/C=C\\CC(O)CCCCCC: Bad Conformer Id\n",
      "Exception for CCCCCCC(OC(C)C)OC(C)C: Bad Conformer Id\n",
      "Exception for C[C@@H]1[C@@H]([C@H](C[C@H](O1)O[C@H]2[C@H](O[C@@H](C[C@@H]2O)O[C@H]3[C@H](O[C@H](C[C@@H]3O)O[C@H]4CC[C@@]5([C@@H](C4)CC[C@H]6[C@@H]5CC[C@]7([C@@]6(CC[C@H]7C8=CC(=O)OC8)O)C)C)C)C)O)O: Bad Conformer Id\n",
      "Exception for C1=C(C=C(C(=C1O)O)O)C(=O)OC2=CC(=CC(=C2O)O)C(=O)OC[C@@H]3[C@H]([C@@H]([C@H]([C@@H](O3)OC(=O)C4=CC(=C(C(=C4)OC(=O)C5=CC(=C(C(=C5)O)O)O)O)O)OC(=O)C6=CC(=C(C(=C6)OC(=O)C7=CC(=C(C(=C7)O)O)O)O)O)OC(=O)C8=CC(=C(C(=C8)OC(=O)C9=CC(=C(C(=C9)O)O)O)O)O)OC(=O)C1=CC(=C(C(=C1)OC(=O)C1=CC(=C(C(=C1)O)O)O)O)O: Bad Conformer Id\n",
      "Exception for C1=C(C=C(C(=C1O)O)O)C(=O)OC2=CC(=CC(=C2O)O)C(=O)OCC3C(C(C(C(O3)OC(=O)C4=CC(=C(C(=C4)OC(=O)C5=CC(=C(C(=C5)O)O)O)O)O)OC(=O)C6=CC(=C(C(=C6)OC(=O)C7=CC(=C(C(=C7)O)O)O)O)O)OC(=O)C8=CC(=C(C(=C8)OC(=O)C9=CC(=C(C(=C9)O)O)O)O)O)OC(=O)C1=CC(=C(C(=C1)OC(=O)C1=CC(=C(C(=C1)O)O)O)O)O: Bad Conformer Id\n",
      "Exception for F[Al-3](F)(F)(F)(F)F.[Na+].[Na+].[Na+]: Bad Conformer Id\n",
      "Exception for CC(C)CCCCCCCCCCOC(/C=C(\\C)/CCC=C(C)C)OCCCCCCCCCCC(C)C: Bad Conformer Id\n",
      "Exception for CC(C)CC(CCCC(=O)O)(CC(C)C)C(=O)O: Bad Conformer Id\n",
      "Exception for CCCCC(OCCCC)OCCCC: Bad Conformer Id\n",
      "Exception for CCCCCOC(CCCC)OCCCCC: Bad Conformer Id\n",
      "Exception for CC1=CC=C(C=C1)C(C)C.CC(C)C1=CCC(=CC1)C=O.CC(C)C1=CC=C(C=C1)C=O.CC1([C@H]2CCC(=C)[C@H]1C2)C: Bad Conformer Id\n",
      "Exception for CCCCCCCCCCCCCCCCCC(=O)OCCOCC(C1C(C(CO1)OCCOC)OCCOC)OCCOC: Bad Conformer Id\n",
      "Exception for CCOCC1C(C(C(C(O1)OC)OCC)OCC)OC2C(C(C(C(O2)COC)OC3C(C(C(C(O3)CO)OC)O)O)OC)OC: Bad Conformer Id\n",
      "Exception for CC1=CC2=C(C=C1C)N(C=N2)[C@@H]3[C@@H]([C@@H]([C@H](O3)CO)OP(=O)(O)O[C@H](C)CNC(=O)CC[C@@]\\4([C@H]([C@@H]5[C@]6([C@@]([C@@H](C(=N6)/C(=C\\7/[C@@]([C@@H](C(=N7)/C=C\\8/C([C@@H](C(=N8)/C(=C4\\[N-]5)/C)CCC(=O)N)(C)C)CCC(=O)N)(C)CC(=O)N)/C)CCC(=O)N)(C)CC(=O)N)C)CC(=O)N)C)O.[Co]: Bad Conformer Id\n",
      "Exception for CC1=CC2=C(C=C1C)N(C=N2)C3C(C(C(O3)CO)OP(=O)([O-])O[C@@H](C)CNC(=O)CC[C@@]\\4([C@H](C5[C@]6([C@@]([C@@H](C(=N6)/C(=C\\7/[C@@]([C@@H](C(=N7)/C=C\\8/C([C@@H](C(=N8)/C(=C4\\[N-]5)/C)CCC(=O)N)(C)C)CCC(=O)N)(C)CC(=O)N)/C)CCC(=O)N)(C)CC(=O)N)C)CC(=O)N)C)O.O.[Co+2]: Bad Conformer Id\n",
      "Exception for CC1=CC2=C(C=C1C)N(C=N2)[C@@H]3[C@@H]([C@@H]([C@H](O3)CO)OP(=O)([O-])O[C@@H](C)CNC(=O)CC[C@@]\\4([C@H](C5[C@]6([C@@]([C@@H](C(=N6)/C(=C\\7/[C@@]([C@@H](C(=N7)/C=C\\8/C([C@@H](C(=N8)/C(=C4\\[N-]5)/C)CCC(=O)N)(C)C)CCC(=O)N)(C)CC(=O)N)/C)CCC(=O)N)(C)CC(=O)N)C)CC(=O)N)C)O.O.[Co+2]: Bad Conformer Id\n",
      "Exception for CC(=O)O.CC1(C2CCC(C1C2)(C)C3(CCC4CC3(C4(C)C)C5(CCC6CC5C6(C)C)C)C)C: Bad Conformer Id\n",
      "Exception for CCCCCCCCCC=CC=CC=CC=O: Bad Conformer Id\n",
      "Exception for CCCCCCCCCCCCCCCC(=O)OC[C@@H]([C@@H]1C(=C(C(=O)O1)O)O)O: Bad Conformer Id\n",
      "Exception for CCC=CCCOC(CC=CCC)OCCC=CCC: Bad Conformer Id\n",
      "Exception for CC(C)CCOC(CC(C)C)OCCC(C)C: Bad Conformer Id\n",
      "Exception for CCCCCCOC(CCCCC)OCCC(C)C: Bad Conformer Id\n",
      "Exception for C12C3C4C1=C5C2C3=C45: Bad Conformer Id\n",
      "Exception for CCC(=O)O.CC1(C2CCC(C1C2)(C)C3(CCC4CC3(C4(C)C)C5(CCC6CC5C6(C)C)C)C)C: Bad Conformer Id\n",
      "Exception for CC1(C2CCC(C1C2)(C)C3(CCC4CC3(C4(C)C)C5(CCC6CC5C6(C)C)C)C)C.C(=O)O: Bad Conformer Id\n",
      "Exception for CCCCCOC(CC1=CC=CC=C1)OCCCCC: Bad Conformer Id\n",
      "Exception for CC1=CC[C@H]2[C@H]3C1[C@]2(CC[C@H]3C(C)C)C: Bad Conformer Id\n",
      "Exception for CC(C)CC(C(=NC(CCC(=N)O)C(=NC(CC(=O)O)C(=NC(CCCCN)C(=O)O)O)O)O)N=C(C(CCC(=O)O)N=C(C(CC(=O)O)N=C(C(CCC(=O)O)N=C(C(C(C)O)N=C(C(CCC(=N)O)N=C(C(CCC(=N)O)N=C(C(CCC(=N)O)N=C(C(CCC(=O)O)N=C(C(CCC(=O)O)N=C(C(COP(=O)(O)O)N=C(C(CCC(=N)O)N=C(C(CC1=CC=CC=C1)N)O)O)O)O)O)O)O)O)O)O)O)O: Bad Conformer Id\n",
      "Exception for CC(=C)C1C[C@@H]2[C@](O2)(C(=O)C1)C: Bad Conformer Id\n",
      "Exception for CC1=CC2=C(C=C1C)N(C=N2)[C@@H]3[C@@H]([C@@H]([C@H](O3)CO)OP(=O)([O-])O[C@@H](C)CNC(=O)CC[C@]\\4([C@H]([C@@H]5[C@]6([C@@]([C@@H](C(=N6)/C(=C\\7/[C@@]([C@@H](C(=N7)/C=C\\8/C([C@@H](C(=N8)/C(=C4\\[N-]5)/C)CCC(=O)N)(C)C)CCC(=O)N)(C)CC(=O)N)/C)CCC(=O)N)(C)CC(=O)N)C)CC(=O)N)C)O.[CH2-][C@@H]1[C@H]([C@H]([C@@H](O1)N2C=NC3=C(N=CN=C32)N)O)O.[Co]: Bad Conformer Id\n",
      "Exception for CCCCCCCCCCCCCC(=O)CC(=O)OCC(CO)O: Bad Conformer Id\n",
      "Exception for COC1COC(C(C1OS(=O)(=O)[O-])OS(=O)(=O)[O-])OC2COC(C(C2OS(=O)(=O)[O-])OS(=O)(=O)[O-])OC3COC(C(C3OS(=O)(=O)[O-])OC4C(C(C(C(O4)C(=O)[O-])OC)OS(=O)(=O)[O-])OS(=O)(=O)[O-])OC5COC(C(C5OS(=O)(=O)[O-])OS(=O)(=O)[O-])OC.[Na+].[Na+].[Na+].[Na+].[Na+].[Na+].[Na+].[Na+].[Na+].[Na+]: Bad Conformer Id\n",
      "Exception for CCCCCC/C=C/CCCCCCCC(=O)OC/C=C(\\C)/CC/C=C(\\C)/CCC=C(C)C: Bad Conformer Id\n"
     ]
    },
    {
     "name": "stderr",
     "output_type": "stream",
     "text": [
      "Exception for CCCCCCOC(CCCC)OCCCCCC: Bad Conformer Id\n",
      "Exception for CCCCOC(CC(C)CCCC(C)(C)O)OCCCC: Bad Conformer Id\n",
      "Exception for C[C@H]1[C@@H]([C@H](C[C@@H](O1)O[C@H]2C[C@@H](O[C@H]([C@@H]2O)C)OC3=CC4=CC5=C(C(=O)[C@@H]([C@H](C5)[C@H](C(=O)[C@@H]([C@H](C)O)O)OC)O[C@@H]6C[C@@H]([C@H]([C@@H](O6)C)O)O[C@@H]7C[C@@H]([C@H]([C@@H](O7)C)O)O[C@@H]8C[C@@]([C@@H]([C@@H](O8)C)O)(C)O)C(=C4C(=C3C)O)O)O)O: Bad Conformer Id\n",
      "Exception for CC(=O)OCC1C(C(C(C(O1)OC2C(C(OC(C2OC3C(C(C(C(O3)CO)OP)O)O)CO)CP)O)OC4C(C(C(C(O4)C(=O)O)OC5C(C(C6C(O5)COC(O6)(C)C(=O)O)O)O)O)O)O)O: Bad Conformer Id\n",
      "Exception for CC1[C@H]2C[C@H](C1O)C3C2CC=C3C: Bad Conformer Id\n",
      "Exception for CCCCCCOC(C=CCCC)OCCCCCC: Bad Conformer Id\n",
      "Exception for CCCCCC(OCCCC)OCCC(C)C: Bad Conformer Id\n",
      "Exception for CCCCCCOC(CCCCC)OCCCC: Bad Conformer Id\n"
     ]
    },
    {
     "data": {
      "application/vnd.jupyter.widget-view+json": {
       "model_id": "75511dd3de7a426892c201ff2e05319d",
       "version_major": 2,
       "version_minor": 0
      },
      "text/plain": [
       "  0%|          | 0/9984 [00:00<?, ?it/s]"
      ]
     },
     "metadata": {},
     "output_type": "display_data"
    },
    {
     "name": "stderr",
     "output_type": "stream",
     "text": [
      "Exception for CCCC=CC(OCCCC)OCCCC: Bad Conformer Id\n",
      "Exception for CC(=O)OC[C@]1(O[C@H]2O[C@@H](COC(=O)C)[C@@H]([C@H]([C@@H]2OC(=O)C)OC(=O)C)OC(=O)C)O[C@H]([C@@H]([C@H]1OC(=O)C)OC(=O)C)COC(=O)C: Bad Conformer Id\n",
      "Exception for F[Al](F)F: Bad Conformer Id\n",
      "Exception for CC[N+](CC)(CC)CCOC1=C(C(=CC=C1)OCC[N+](CC)(CC)CC)OCC[N+](CC)(CC)CC: Bad Conformer Id\n",
      "Exception for CO[C@H]1[C@@H](C[C@@H]2CN3CCC4=C([C@H]3C[C@@H]2[C@@H]1C(=O)OC)NC5=C4C=CC(=C5)OC)OC(=O)C6=CC(=C(C(=C6)OC)OC)OC: Bad Conformer Id\n",
      "Exception for CC[N+](CC)(CC)CCOC1=C(C(=CC=C1)OCC[N+](CC)(CC)CC)OCC[N+](CC)(CC)CC.[I-].[I-].[I-]: Bad Conformer Id\n",
      "Exception for C[C@@H]1[C@H]([C@H](C[C@@H](O1)O[C@@H]2[C@H](O[C@H](C[C@@H]2O)O[C@@H]3[C@H](O[C@H](C[C@@H]3O)O[C@H]4CC[C@]5([C@@H](C4)CC[C@@H]6[C@@H]5CC[C@]7([C@@]6(CC[C@H]7C8=CC(=O)OC8)O)C)C)C)C)O)O: Bad Conformer Id\n",
      "Exception for C[C@]12CC[C@@H](C1(C)C)C[C@H]2O: Bad Conformer Id\n",
      "Exception for C[C@]12CCCC(C3[C@@H]1CCC3C2=C)(C)C: Bad Conformer Id\n",
      "Exception for C[C@@]12CC[C@H](C1(C)C)C[C@@H]2O: Bad Conformer Id\n",
      "Exception for C(=O)([O-])[O-].[Ba+2]: Bad Conformer Id\n",
      "Exception for CCCCCCCC(=O)OCC(COC(=O)CCCCCCC)OC(=O)CCCCCCC: Bad Conformer Id\n",
      "Exception for CCCCCCCCCCCCCCCCCC(=O)OCC(COC(=O)CCCCCCCCCCCCCCCCC)OC(=O)CCCCCCCCCCCCCCCCC: Bad Conformer Id\n",
      "Exception for CC[C@@H]1[C@@]([C@@H]([C@H](C(=O)[C@@H](C[C@@]([C@@H]([C@H]([C@@H]([C@H](C(=O)O1)C)O[C@H]2C[C@@]([C@H]([C@@H](O2)C)O)(C)OC)C)O[C@H]3[C@@H]([C@H](C[C@H](O3)C)N(C)C)O)(C)O)C)C)O)(C)O: Bad Conformer Id\n",
      "Exception for CCCCCCCCCCCCCCCCCC(=O)OCC([C@@H]1[C@H]([C@@H](CO1)O)O)O: Bad Conformer Id\n",
      "Exception for CC1=C(C2=C(CC[C@@](O2)(C)CCC[C@H](C)CCC[C@H](C)CCCC(C)C)C(=C1O)C)C: Bad Conformer Id\n",
      "Exception for CCCCCCCCCCCCCCCC[N+](C)(C)CCCCCCCCCCCCCCCC.[Cl-]: Bad Conformer Id\n",
      "Exception for FS(F)(F)(F)(F)F: Bad Conformer Id\n",
      "Exception for CCCCCCCCCCCCCCCCCCCCCCCO: Bad Conformer Id\n",
      "Exception for CCCCCCOC(C)OCCCCCC: Bad Conformer Id\n",
      "Exception for Cl[Sb](Cl)(Cl)(Cl)Cl: Bad Conformer Id\n",
      "Exception for F[Sb](F)(F)(F)F: Bad Conformer Id\n",
      "Exception for F[Te](F)(F)(F)(F)F: Bad Conformer Id\n",
      "Exception for CCCCCCCCCCCCCCCCCC(=O)OCCO: Bad Conformer Id\n",
      "Exception for F[Si-2](F)(F)(F)(F)F.[Na+].[Na+]: Python argument types in\n",
      "    rdkit.Chem.rdmolops.GetMolFrags(NoneType)\n",
      "did not match C++ signature:\n",
      "    GetMolFrags(class RDKit::ROMol mol, bool asMols=False, bool sanitizeFrags=True, class boost::python::api::object frags=None, class boost::python::api::object fragsMolAtomMapping=None)\n",
      "Exception for [NH4+].[NH4+].F[Si-2](F)(F)(F)(F)F: Python argument types in\n",
      "    rdkit.Chem.rdmolops.GetMolFrags(NoneType)\n",
      "did not match C++ signature:\n",
      "    GetMolFrags(class RDKit::ROMol mol, bool asMols=False, bool sanitizeFrags=True, class boost::python::api::object frags=None, class boost::python::api::object fragsMolAtomMapping=None)\n",
      "Exception for C[C@H]1[C@@H]([C@H]([C@H]([C@@H](O1)O[C@@H]2[C@H]([C@@H]([C@H](O[C@H]2OC3=CC(=C(C(=C3)O)C(=O)CCC4=CC(=C(C=C4)OC)O)O)CO)O)O)O)O)O: Bad Conformer Id\n",
      "Exception for CCCCCCCCC=CCCCCCCCC(=O)OCC(COC(=O)CCCCCCCC=CCCCCCCCC)OC(=O)CCCCCCCC=CCCCCCCCC: Bad Conformer Id\n",
      "Exception for CCOC(OCC)OCC: Bad Conformer Id\n",
      "Exception for CCCCCCCCCCCCOC(=O)CCSCCC(=O)OCCCCCCCCCCCC: Bad Conformer Id\n",
      "Exception for CCCCCCCCCCCCCCCCCC(=O)OCCCC: Bad Conformer Id\n",
      "Exception for CC(=O)OC[C@@H]1[C@H]([C@@H]([C@H]([C@H](O1)O[C@]2([C@H]([C@@H]([C@H](O2)COC(=O)C)OC(=O)C)OC(=O)C)COC(=O)C)OC(=O)C)OC(=O)C)OC(=O)C: Bad Conformer Id\n",
      "Exception for CO[C@H]1[C@@H](C[C@@H]2CN3CCC4=C([C@H]3C[C@@H]2[C@@H]1C(=O)OC)NC5=C4C=CC(=C5)OC)OC(=O)C=CC6=CC(=C(C(=C6)OC)OC)OC: Bad Conformer Id\n",
      "Exception for CCCCCCCCCCCCCCC(=O)OCC: Bad Conformer Id\n",
      "Exception for C[C@@]12CC[C@H](C1(C)C)C[C@H]2O: Bad Conformer Id\n",
      "Exception for CC(=O)O[C@@H]1C[C@@H]2CC[C@@]1(C2(C)C)C: Bad Conformer Id\n",
      "Exception for Cl[Mo](Cl)(Cl)(Cl)Cl: Pre-condition Violation\n",
      "\tbad params pointer\n",
      "\tViolation occurred on line 75 in file Code\\ForceField\\UFF\\AngleBend.cpp\n",
      "\tFailed Expression: at2Params\n",
      "\tRDKIT: 2022.03.2\n",
      "\tBOOST: 1_74\n",
      "\n",
      "Exception for C[C@]12CC[C@](C[C@H]1C3=CC(=O)[C@@H]4[C@]5(CC[C@@H](C([C@@H]5CC[C@]4([C@@]3(CC2)C)C)(C)C)O[C@@H]6[C@@H]([C@H]([C@@H]([C@H](O6)C(=O)O)O)O)O[C@H]7[C@@H]([C@H]([C@@H]([C@H](O7)C(=O)O)O)O)O)C)(C)C(=O)O.N: Bad Conformer Id\n",
      "Exception for CCCCCCCCCCCCCCCCCC(=O)NCCCN(C)C: Bad Conformer Id\n",
      "Exception for FS(F)(F)(F)(F)S(F)(F)(F)(F)F: Bad Conformer Id\n",
      "Exception for CCCCCCCCCCCCCCCCOP(=O)(O)OCCCCCCCCCCCCCCCC: Bad Conformer Id\n",
      "Exception for CCCCCCCC[C@@H]1[C@@H](O1)CCCCCCCCCCCC(=O)O: Bad Conformer Id\n",
      "Exception for CCCCCCCCCCCCCCCCCC(=O)OCCCCC: Bad Conformer Id\n",
      "Exception for CCC(C)(C)OOC1(CCCCC1)OOC(C)(C)CC: Bad Conformer Id\n",
      "Exception for CCCCCCCCOC(=O)CC(=O)OCCCCCCCC: Bad Conformer Id\n",
      "Exception for CC(=O)OC[C@H]([C@H]([C@@H]([C@H](C=O)OC(=O)C)OC(=O)C)OC(=O)C)OC(=O)C: Bad Conformer Id\n",
      "Exception for CC(C)(C)C1=CC(=CC(=C1O)C(C)(C)C)CCC(=O)OCCNC(=O)C(=O)NCCOC(=O)CCC2=CC(=C(C(=C2)C(C)(C)C)O)C(C)(C)C: Bad Conformer Id\n",
      "Exception for C1=CC=C(C=C1)CC(OCC2=CC=CC=C2)OCC3=CC=CC=C3: Bad Conformer Id\n",
      "Exception for CC(C)CCCCCCCCCCOC(CC(C)CCC=C(C)C)OCCCCCCCCCCC(C)C: Bad Conformer Id\n",
      "Exception for CC(C)CCCCCCCCCCOC(CC(C)CCCC(C)(C)O)OCCCCCCCCCCC(C)C: Bad Conformer Id\n",
      "Exception for CCCCCC(=CC1=CC=CC=C1)C(OCC)OCC: Bad Conformer Id\n",
      "Exception for CC1=C2CC(C(C1)C(C2)C(C)C)C=O: Bad Conformer Id\n",
      "Exception for CC1=C2CC(C(C1)C(C2)C(=O)C)C(C)C: Bad Conformer Id\n",
      "Exception for CCCCCCCOC(=O)CCCCCCCCC=C: Bad Conformer Id\n",
      "Exception for CCC(COC(=O)CCCCCCCCCCCCCCC(C)C)(COC(=O)CCCCCCCCCCCCCCC(C)C)COC(=O)CCCCCCCCCCCCCCC(C)C: Bad Conformer Id\n",
      "Exception for CCCCC(CC)C(=O)OCC(COC(=O)C(CC)CCCC)OC(=O)C(CC)CCCC: Bad Conformer Id\n",
      "Exception for C1C=CC2C1C3CC2C4C3C5CC4C=C5: Bad Conformer Id\n",
      "Exception for CCCCCCOC(CCCCC)OCCCCCC: Bad Conformer Id\n",
      "Exception for C[C@@]12CC[C@H](C1)C([C@]2(C)O)(C)C: Bad Conformer Id\n",
      "Exception for [H+].[H+].O.O.O.O.O.O.Cl[Pt-2](Cl)(Cl)(Cl)(Cl)Cl: Bad Conformer Id\n",
      "Exception for CC(C)[C@@H]1CC[C@@]2([C@H]1[C@@H]3C(=C)CC[C@@H]2S3)C: Bad Conformer Id\n",
      "Exception for CCCCCCCCCCCCCCOCCCOC(=O)CC: Bad Conformer Id\n",
      "Exception for CC(C)CCCCCCCCCCCCCCC(=O)OCC(COC(=O)CCCCCCCCCCCCCCC(C)C)OC(=O)CCCCCCCCCCCCCCC(C)C: Bad Conformer Id\n",
      "Exception for CC(C)CCCCCCCCCCCCCCC(=O)OCC(COC(=O)CCCCCCCCCCCCCCC(C)C)(COC(=O)CCCCCCCCCCCCCCC(C)C)COC(=O)CCCCCCCCCCCCCCC(C)C: Bad Conformer Id\n",
      "Exception for CC(CCC=C(C)C)CCOC(CC1=CC=CC=C1)OCCC2=CC=CC=C2: Bad Conformer Id\n",
      "Exception for C[C@]1(CCC23COC4([C@H]2C1)CC[C@@H]5[C@]6(CC[C@@H](C(C6CC[C@]5([C@@]4(C[C@H]3O)C)C)(C)C)O[C@H]7[C@@H]([C@H]([C@H](CO7)O[C@H]8[C@@H]([C@H]([C@@H](CO8)O)O)O)O[C@@H]9[C@@H]([C@H]([C@@H]([C@H](O9)CO)O)O)O)O[C@H]1[C@@H]([C@H]([C@@H]([C@H](O1)CO)O)O)O[C@@H]1[C@@H]([C@H]([C@@H]([C@H](O1)CO)O)O)O)C)C=O: Bad Conformer Id\n",
      "Exception for CCCCCC(OCCC(C)C)OCCC(C)C: Bad Conformer Id\n",
      "Exception for C[C@]12CC[C@@H](C1(C)C)C[C@@H]2OC: Bad Conformer Id\n",
      "Exception for C[C@]12CC[C@@H](C1(C)C)C[C@@H]2O: Bad Conformer Id\n",
      "Exception for C[C@@]12CC[C@H](C1(C)C)CC2=O: Bad Conformer Id\n",
      "Exception for CC(C1=CC=CC=C1)C(OCC2=CC=CC=C2)OCC3=CC=CC=C3: Bad Conformer Id\n",
      "Exception for CCCCCCCCCCCCOC(=O)CC(C)C: Bad Conformer Id\n",
      "Exception for CCCC(=O)O[C@H]1C[C@H]2CC[C@]1(C2(C)C)C: Bad Conformer Id\n",
      "Exception for CC(=O)O[C@H]1C[C@H]2CC[C@]1(C2(C)C)C: Bad Conformer Id\n",
      "Exception for CC(C)CC(=O)O[C@@H]1C[C@H]2CC[C@]1(C2(C)C)C: Bad Conformer Id\n",
      "Exception for C[C@]12CC[C@@H](C1(C)C)C[C@H]2OC(=O)C3=CC=CC=C3O: Bad Conformer Id\n",
      "Exception for CCCCCCC(OCCCC)OCCCC: Bad Conformer Id\n",
      "Exception for CC(C)[C@]12CC[C@@]([C@@H]1C2)(C)O: Bad Conformer Id\n",
      "Exception for CC(=CCC/C(=C/C=C/C(=C/C=C/C(=C/C=C/C=C(/C=C/C=C(/C=C/C=C(/CCC=C(C)C)\\C)\\C)\\C)/C)/C)/C)C: Bad Conformer Id\n",
      "Exception for CC(C)COC(=O)C(C)(C)C: Bad Conformer Id\n",
      "Exception for CC(C)C(=O)OC[C@@]1([C@H]([C@@H]([C@H](O1)COC(=O)C)OC(=O)C(C)C)OC(=O)C(C)C)O[C@@H]2[C@@H]([C@H]([C@@H]([C@H](O2)COC(=O)C)OC(=O)C(C)C)OC(=O)C(C)C)OC(=O)C(C)C: Bad Conformer Id\n",
      "Exception for CC(C)CCCCCCCCCCCCCCC(=O)OC(CO)CO: Bad Conformer Id\n",
      "Exception for CCCCCCCCCCCCCCCC(=O)OCCCCC: Bad Conformer Id\n",
      "Exception for CCCCCCCCCCCCCCCC(=O)OC[C@@H]1[C@H]([C@@H]([C@H]([C@H](O1)OC[C@@H]2[C@H]([C@@H]([C@H]([C@H](O2)O[C@@H]3[C@H](O[C@@H]([C@@H]([C@H]3O)O)O)CO)O)O)O)O)O)O[C@@H]4[C@@H]([C@H]([C@@H]([C@H](O4)CO)O)O)O: Bad Conformer Id\n",
      "Exception for CC(CCC=C(C)C)CCOC(=O)C(=O)OCCC(C)CCC=C(C)C: Bad Conformer Id\n"
     ]
    },
    {
     "name": "stderr",
     "output_type": "stream",
     "text": [
      "Exception for CC(COCC1C(C(C(C(O1)OC2C(OC(C(C2OCC(C)O)OCC(C)O)OCC(C)O)COCC(C)O)OCC(C)O)OCC(C)O)OCC(C)O)O: Bad Conformer Id\n",
      "Exception for CCCCCCCC/C=C/CCCCCCCC(=O)OCCOCC(C1C(C(CO1)OCCO)OCCO)OCCO: Bad Conformer Id\n",
      "Exception for CC1=CC(=CC2=C1C=CC(=O)O2)NC(=O)[C@H](CCCN=C(N)N)NC(=O)[C@H](CO)NC(=O)[C@H](CC3=CC=CC=C3)NC(=O)OC(C)(C)C.CC(=O)O: Bad Conformer Id\n",
      "Exception for CCCCCCC(O)C/C=C/CCCCCCCC(=O)OCC(OC(=O)CCCCCCC/C=C/CC(O)CCCCCC)COC(=O)CCCCCCC/C=C/CC(O)CCCCCC: Bad Conformer Id\n",
      "Exception for CCCCCCCCCCCCCCCCCC(=O)O[C@@]1([C@@H]([C@H]([C@@H]([C@H](O1)CO)O)O)O)[C@@]2([C@H]([C@@H]([C@H](O2)CO)O)O)CO: Bad Conformer Id\n",
      "Exception for CCCCCCCCCCCCCCCCCC(=O)O[C@@H]1[C@H]([C@@H]([C@H](O[C@]1([C@@]2([C@H]([C@@H]([C@H](O2)CO)O)O)CO)OC(=O)CCCCCCCCCCCCCCCCC)CO)O)O: Bad Conformer Id\n",
      "Exception for CCCCCCCC/C=C\\CCCCCCCC(=O)OCCCCCC: Bad Conformer Id\n",
      "Exception for CC(C)C(=O)OC(C)(CC/C=C(\\C)/CCC=C(C)C)C=C: Bad Conformer Id\n",
      "Exception for CCCCCCCC/C=C/CCCCCCCC(=O)OCC(OC(=O)CCCCCCC/C=C/CCCCCCCC)COC(=O)CCCCCCC/C=C/CCCCCCCC: Bad Conformer Id\n",
      "Exception for C[N+]1([C@@H]2CC(C[C@H]1[C@H]3[C@@H]2O3)OC(=O)[C@H](CO)C4=CC=CC=C4)C.[Br-]: Bad Conformer Id\n",
      "Exception for CC1=CC2=C(C=C1C)N(C=N2)[C@@H]3[C@@H]([C@@H]([C@H](O3)CO)OP(=O)([O-])O[C@H](C)CNC(=O)CC[C@@]\\4([C@H]([C@@H]5[C@]6([C@@]([C@@H](C(=N6)/C(=C\\7/[C@@]([C@@H](C(=N7)/C=C\\8/C([C@@H](C(=N8)/C(=C4\\[N-]5)/C)CCC(=O)N)(C)C)CCC(=O)N)(C)CC(=O)N)/C)CCC(=O)N)(C)CC(=O)N)C)CC(=O)N)C)O.[Co]: Bad Conformer Id\n",
      "Exception for CCCCCCCC/C=C\\CCCCCCCC(=O)OCC(OC(=O)CCCCCCC/C=C\\CCCCCCCC)COC(=O)CCCCCCC/C=C\\CCCCCCCC: Bad Conformer Id\n",
      "Exception for CCCCCCCC/C=C\\CCCCCCCC(=O)OCC([C@@H]1[C@H]([C@@H](CO1)O)O)O: Bad Conformer Id\n",
      "Exception for C[C@@H]1[C@H]2C[C@@H](C2(C)C)CC1=O: Bad Conformer Id\n",
      "Exception for CCCCCCCCCCCCCCCCCCCCCCCC(=O)NCCC1=CNC2=CC=CC=C21: Bad Conformer Id\n",
      "Exception for CCCCCCCCCCCCCCCCCCCCCC(=O)NCCC1=CNC2=CC=CC=C21: Bad Conformer Id\n",
      "Exception for [CH3-].CC1=CC2=C(C=C1C)N(C=N2)[C@@H]3[C@@H]([C@@H]([C@H](O3)CO)OP(=O)([O-])OC(C)CNC(=O)CC[C@@]4([C@H]([C@@H]5[C@]6([C@@]([C@@H](/C(=C(/C7=N/C(=C\\C8=N/C(=C(\\C4=N5)/C)/[C@H](C8(C)C)CCC(=O)N)/[C@H]([C@]7(C)CC(=O)N)CCC(=O)N)\\C)/[N-]6)CCC(=O)N)(C)CC(=O)N)C)CC(=O)N)C)O.[Co+3]: Bad Conformer Id\n",
      "Exception for CC[C@H](C)[C@H]1C(=O)N[C@@H](C(=O)N[C@H](C(=O)N[C@@H](C(=O)N[C@H](C(=O)NCCCC[C@@H](C(=O)N[C@@H](C(=O)N1)CCCN)NC(=O)[C@H]([C@@H](C)CC)NC(=O)[C@@H](CCC(=O)O)NC(=O)[C@H](CC(C)C)NC(=O)[C@@H]2CSC(=N2)[C@H]([C@@H](C)CC)N)CC(=O)N)CC(=O)O)CC3=CN=CN3)CC4=CC=CC=C4: Bad Conformer Id\n",
      "Exception for CCCCCCCCCC#CC(=O)OCC: Bad Conformer Id\n",
      "Exception for CC(C)CCCCCCCCCCCCCCC(=O)OCC(COCC(COC(=O)CCCCCCCCCCCCCCC(C)C)OC(=O)CCCCCCCCCCCCCCC(C)C)O: Bad Conformer Id\n",
      "Exception for CC1[C@H]2C[C@@]2(C[C@H]1O)C(C)C: Bad Conformer Id\n",
      "Exception for CC1=C(C(CCC1)(C)C)C(=O)/C=C/C(=C/C=C/C(=C/C=C/C=C(\\C)/C=C/C=C(\\C)/C=C/C2=C(CC(CC2(C)C)O)C)/C)/C.CC1=C(C(CC(C1)O)(C)C)/C=C/C(=C/C=C/C(=C/C=C/C=C(\\C)/C=C/C=C(\\C)/C=C/C(=O)/C=C(\\C)/CCC=C(C)C)/C)/C.CC1=C(C(CC(C1)O)(C)C)/C=C/C(=C/C=C/C(=C/C=C/C=C(\\C)/C=C/C=C(\\C)/C=C/C(=O)C2C(=CCCC2(C)C)C)/C)/C.CC1=C(C(CC(C1)O)(C)C)/C=C/C(=C/C=C/C(=C/C=C/C=C(\\C)/C=C/C=C(\\C)/C=C/C(=O)C2(CC(CC2(C)C)O)C)/C)/C.CC(C)/C=C/CCCCC(=O)NCC1=CC(=C(C=C1)O)OC: Bad Conformer Id\n",
      "Exception for CCCCOC(CC(C)C)OCCCC: Bad Conformer Id\n",
      "Exception for CCCCCCC(O)C/C=C\\CCCCCCCC(=O)OCC(OC(=O)CCCCCCC/C=C\\CC(O)CCCCCC)COC(=O)CCCCCCC/C=C\\CC(O)CCCCCC: Bad Conformer Id\n",
      "Exception for CCCCCCC(OC(C)C)OC(C)C: Bad Conformer Id\n",
      "Exception for C1=C(C=C(C(=C1O)O)O)C(=O)OC2=CC(=CC(=C2O)O)C(=O)OC[C@@H]3[C@H]([C@@H]([C@H]([C@@H](O3)OC(=O)C4=CC(=C(C(=C4)OC(=O)C5=CC(=C(C(=C5)O)O)O)O)O)OC(=O)C6=CC(=C(C(=C6)OC(=O)C7=CC(=C(C(=C7)O)O)O)O)O)OC(=O)C8=CC(=C(C(=C8)OC(=O)C9=CC(=C(C(=C9)O)O)O)O)O)OC(=O)C1=CC(=C(C(=C1)OC(=O)C1=CC(=C(C(=C1)O)O)O)O)O: Bad Conformer Id\n",
      "Exception for C1=C(C=C(C(=C1O)O)O)C(=O)OC2=CC(=CC(=C2O)O)C(=O)OCC3C(C(C(C(O3)OC(=O)C4=CC(=C(C(=C4)OC(=O)C5=CC(=C(C(=C5)O)O)O)O)O)OC(=O)C6=CC(=C(C(=C6)OC(=O)C7=CC(=C(C(=C7)O)O)O)O)O)OC(=O)C8=CC(=C(C(=C8)OC(=O)C9=CC(=C(C(=C9)O)O)O)O)O)OC(=O)C1=CC(=C(C(=C1)OC(=O)C1=CC(=C(C(=C1)O)O)O)O)O: Bad Conformer Id\n",
      "Exception for CCCCCCCCCCCCCCCCC(=O)NCCN1C=CC2=CC=CC=C21: Bad Conformer Id\n",
      "Exception for F[Al-3](F)(F)(F)(F)F.[Na+].[Na+].[Na+]: Bad Conformer Id\n",
      "Exception for CC(C)CCCCCCCCCCOC(/C=C(\\C)/CCC=C(C)C)OCCCCCCCCCCC(C)C: Bad Conformer Id\n",
      "Exception for CCC(OCC(C)C)OCC(C)C: Bad Conformer Id\n",
      "Exception for CCCCCCCCCCCCCOC(=O)[C@H](CC(C)C)NC(=O)OC: Bad Conformer Id\n",
      "Exception for CC(C)CC(CCCC(=O)O)(CC(C)C)C(=O)O: Bad Conformer Id\n",
      "Exception for CC(C)C(CCC(C)O)CCC(C)O: Bad Conformer Id\n",
      "Exception for CCCCCC(OCCCCC)OCCCCC: Bad Conformer Id\n",
      "Exception for CCCCCCCCCCCCCC(=O)OCCCCCCC: Bad Conformer Id\n",
      "Exception for CCCCCCCCCCCC(=O)OC[C@H]([C@@H]1[C@@H]([C@H](CO1)OCCO)OCCO)O: Bad Conformer Id\n",
      "Exception for CC1=CC=C(C=C1)C(C)C.CC(C)C1=CCC(=CC1)C=O.CC(C)C1=CC=C(C=C1)C=O.CC1([C@H]2CCC(=C)[C@H]1C2)C: Bad Conformer Id\n",
      "Exception for CCCCCCCCCCCCCCCCCC(=O)OCCOCC(C1C(C(CO1)OCCOC)OCCOC)OCCOC: Bad Conformer Id\n",
      "Exception for CC1=CC2=C(C=C1C)N(C=N2)[C@@H]3[C@@H]([C@@H]([C@H](O3)CO)OP(=O)(O)O[C@H](C)CNC(=O)CC[C@@]\\4([C@H]([C@@H]5[C@]6([C@@]([C@@H](C(=N6)/C(=C\\7/[C@@]([C@@H](C(=N7)/C=C\\8/C([C@@H](C(=N8)/C(=C4\\[N-]5)/C)CCC(=O)N)(C)C)CCC(=O)N)(C)CC(=O)N)/C)CCC(=O)N)(C)CC(=O)N)C)CC(=O)N)C)O.[Co]: Bad Conformer Id\n",
      "Exception for CC1=CC2=C(C=C1C)N(C=N2)C3C(C(C(O3)CO)OP(=O)([O-])O[C@@H](C)CNC(=O)CC[C@@]\\4([C@H](C5[C@]6([C@@]([C@@H](C(=N6)/C(=C\\7/[C@@]([C@@H](C(=N7)/C=C\\8/C([C@@H](C(=N8)/C(=C4\\[N-]5)/C)CCC(=O)N)(C)C)CCC(=O)N)(C)CC(=O)N)/C)CCC(=O)N)(C)CC(=O)N)C)CC(=O)N)C)O.O.[Co+2]: Bad Conformer Id\n",
      "Exception for CC1=CC2=C(C=C1C)N(C=N2)[C@@H]3[C@@H]([C@@H]([C@H](O3)CO)OP(=O)([O-])O[C@@H](C)CNC(=O)CC[C@@]\\4([C@H](C5[C@]6([C@@]([C@@H](C(=N6)/C(=C\\7/[C@@]([C@@H](C(=N7)/C=C\\8/C([C@@H](C(=N8)/C(=C4\\[N-]5)/C)CCC(=O)N)(C)C)CCC(=O)N)(C)CC(=O)N)/C)CCC(=O)N)(C)CC(=O)N)C)CC(=O)N)C)O.O.[Co+2]: Bad Conformer Id\n",
      "Exception for COCC1[C@H](C(C(C(O1)OC)OC)OC)O[C@H]2C(C(C(C(O2)COC)OC)OC)OC: Bad Conformer Id\n",
      "Exception for CC(=O)O.CC1(C2CCC(C1C2)(C)C3(CCC4CC3(C4(C)C)C5(CCC6CC5C6(C)C)C)C)C: Bad Conformer Id\n",
      "Exception for CCC=CCCOC(CC=CCC)OCCC=CCC: Bad Conformer Id\n",
      "Exception for CCCCCCOC(CCCCC)OCCC(C)C: Bad Conformer Id\n",
      "Exception for C12C3C4C1=C5C2C3=C45: Bad Conformer Id\n",
      "Exception for CCC(=O)O.CC1(C2CCC(C1C2)(C)C3(CCC4CC3(C4(C)C)C5(CCC6CC5C6(C)C)C)C)C: Bad Conformer Id\n",
      "Exception for CC1(C2CCC(C1C2)(C)C3(CCC4CC3(C4(C)C)C5(CCC6CC5C6(C)C)C)C)C.C(=O)O: Bad Conformer Id\n",
      "Exception for CCCCCC(OCC(C)C)OCC(C)C: Bad Conformer Id\n",
      "Exception for CC1=CC[C@H]2[C@H]3C1[C@]2(CC[C@H]3C(C)C)C: Bad Conformer Id\n",
      "Exception for CO[C@H]1[C@@H](C[C@@H]2CN3CCC4=C([C@H]3C[C@@H]2[C@@H]1C(=O)OC)NC5=C4C=CC(=C5)OC)OC(=O)C6=CC(=C(C(=C6)OC)OC)OC.C1=CC=C2C(=C1)C=NN=C2NN: Bad Conformer Id\n",
      "Exception for CC(C)CC(C(=NC(CCC(=N)O)C(=NC(CC(=O)O)C(=NC(CCCCN)C(=O)O)O)O)O)N=C(C(CCC(=O)O)N=C(C(CC(=O)O)N=C(C(CCC(=O)O)N=C(C(C(C)O)N=C(C(CCC(=N)O)N=C(C(CCC(=N)O)N=C(C(CCC(=N)O)N=C(C(CCC(=O)O)N=C(C(CCC(=O)O)N=C(C(COP(=O)(O)O)N=C(C(CCC(=N)O)N=C(C(CC1=CC=CC=C1)N)O)O)O)O)O)O)O)O)O)O)O)O: Bad Conformer Id\n",
      "Exception for CCCCCCCCCCC(CCCCCC)COCC(C)OCC(C)OCCOC(=O)C: Bad Conformer Id\n",
      "Exception for CC(=C)C1C[C@@H]2[C@](O2)(C(=O)C1)C: Bad Conformer Id\n",
      "Exception for CC1=CC2=C(C=C1C)N(C=N2)[C@@H]3[C@@H]([C@@H]([C@H](O3)CO)OP(=O)([O-])O[C@@H](C)CNC(=O)CC[C@]\\4([C@H]([C@@H]5[C@]6([C@@]([C@@H](C(=N6)/C(=C\\7/[C@@]([C@@H](C(=N7)/C=C\\8/C([C@@H](C(=N8)/C(=C4\\[N-]5)/C)CCC(=O)N)(C)C)CCC(=O)N)(C)CC(=O)N)/C)CCC(=O)N)(C)CC(=O)N)C)CC(=O)N)C)O.[CH2-][C@@H]1[C@H]([C@H]([C@@H](O1)N2C=NC3=C(N=CN=C32)N)O)O.[Co]: Bad Conformer Id\n",
      "Exception for COC1COC(C(C1OS(=O)(=O)[O-])OS(=O)(=O)[O-])OC2COC(C(C2OS(=O)(=O)[O-])OS(=O)(=O)[O-])OC3COC(C(C3OS(=O)(=O)[O-])OC4C(C(C(C(O4)C(=O)[O-])OC)OS(=O)(=O)[O-])OS(=O)(=O)[O-])OC5COC(C(C5OS(=O)(=O)[O-])OS(=O)(=O)[O-])OC.[Na+].[Na+].[Na+].[Na+].[Na+].[Na+].[Na+].[Na+].[Na+].[Na+]: Bad Conformer Id\n",
      "Exception for C[C@H]1[C@@H]([C@H](C[C@@H](O1)O[C@H]2C[C@@H](O[C@H]([C@@H]2O)C)OC3=CC4=CC5=C(C(=O)[C@@H]([C@H](C5)[C@H](C(=O)[C@@H]([C@H](C)O)O)OC)O[C@@H]6C[C@@H]([C@H]([C@@H](O6)C)O)O[C@@H]7C[C@@H]([C@H]([C@@H](O7)C)O)O[C@@H]8C[C@@]([C@@H]([C@@H](O8)C)O)(C)O)C(=C4C(=C3C)O)O)O)O: Bad Conformer Id\n",
      "Exception for [2H]C([2H])([2H])OC(=O)[C@@H]1CC2=CC(=O)CC[C@@]2([C@]34C1C5CC[C@]6([C@]5(C[C@@H]3O4)C)CCC(=O)O6)C: Bad Conformer Id\n"
     ]
    },
    {
     "name": "stderr",
     "output_type": "stream",
     "text": [
      "Exception for CC(=O)OCC1C(C(C(C(O1)OC2C(C(OC(C2OC3C(C(C(C(O3)CO)OP)O)O)CO)CP)O)OC4C(C(C(C(O4)C(=O)O)OC5C(C(C6C(O5)COC(O6)(C)C(=O)O)O)O)O)O)O)O: Bad Conformer Id\n",
      "Exception for CCCCCCCCCCCCCCCCCC(=O)O.CCC1[C@]([C@H](C(C(=O)[C@H](C[C@]([C@H]([C@@H](C([C@@H](C(=O)O1)C)O[C@@H]2C[C@]([C@@H]([C@H](O2)C)O)(C)OC)C)O[C@@H]3[C@H]([C@@H](C[C@@H](O3)C)N(C)C)O)(C)O)C)C)O)(C)O: Bad Conformer Id\n",
      "Exception for CC1[C@H]2C[C@H](C1O)C3C2CC=C3C: Bad Conformer Id\n",
      "Exception for CCCCCCOC(C=CCCC)OCCCCCC: Bad Conformer Id\n",
      "Exception for CCCCCCOC(CC(C)C)OCCCCCC: Bad Conformer Id\n",
      "Exception for C[C@H]1CC[C@H]([C@@H](C1)OCC(C)(CO)O)C(C)C: Bad Conformer Id\n"
     ]
    },
    {
     "data": {
      "application/vnd.jupyter.widget-view+json": {
       "model_id": "9d3105fada974f34982800e240fab8b7",
       "version_major": 2,
       "version_minor": 0
      },
      "text/plain": [
       "  0%|          | 0/9821 [00:00<?, ?it/s]"
      ]
     },
     "metadata": {},
     "output_type": "display_data"
    }
   ],
   "source": [
    "morgan_sim = smiles_to_morgan_sim(smiles.values, smiles.values)"
   ]
  },
  {
   "cell_type": "code",
   "execution_count": 4,
   "id": "d947ac64-262e-4f22-8832-888bfd858467",
   "metadata": {},
   "outputs": [
    {
     "data": {
      "text/plain": [
       "(0, (9824, 9821))"
      ]
     },
     "execution_count": 4,
     "metadata": {},
     "output_type": "execute_result"
    }
   ],
   "source": [
    "morgan_sim.isnull().sum().sum(), morgan_sim.shape"
   ]
  },
  {
   "cell_type": "code",
   "execution_count": 5,
   "id": "fdcd8c03-ae0c-4c35-96af-18c7f352f7cb",
   "metadata": {},
   "outputs": [],
   "source": [
    "morgan_sim = smiles.to_frame(name='SMILES').join(morgan_sim, on='SMILES', how='inner').drop('SMILES', axis=1)"
   ]
  },
  {
   "cell_type": "code",
   "execution_count": 10,
   "id": "81b2949a-7e8a-4b2c-a74b-9f41466564e0",
   "metadata": {
    "scrolled": true
   },
   "outputs": [],
   "source": [
    "# CSV file size is too large for direct storage on the Pyrfume-Data repo\n",
    "# Save a the actual features data in 'untracked' that will be hashed and added to pyrfume-data/lfs-cache.csv\n",
    "# so that pyrfume.load_data() will load the actual data from an external URL\n",
    "actual_file = os.path.join('untracked','features_sim.csv')\n",
    "morgan_sim.to_csv(actual_file)"
   ]
  },
  {
   "cell_type": "code",
   "execution_count": 11,
   "id": "4cdab4bc",
   "metadata": {},
   "outputs": [
    {
     "name": "stdout",
     "output_type": "stream",
     "text": [
      "80f66d62cd88e6cb1e045696eb2d998df98f92df437c43ac347eaac12de124e6\n"
     ]
    }
   ],
   "source": [
    "# Create hash of the actual file that will be added to 'features_sim.csv' that will sit on the Pyrfume-Data repo\n",
    "hashed = pyrfume.lfs_hash(actual_file)\n",
    "print(hashed)"
   ]
  },
  {
   "cell_type": "code",
   "execution_count": 12,
   "id": "ac353605",
   "metadata": {},
   "outputs": [],
   "source": [
    "df = pd.DataFrame(['redirect', hashed])\n",
    "df.to_csv('features_sim.csv', header=False, index=False)"
   ]
  }
 ],
 "metadata": {
  "kernelspec": {
   "display_name": "Python 3 (ipykernel)",
   "language": "python",
   "name": "python3"
  },
  "language_info": {
   "codemirror_mode": {
    "name": "ipython",
    "version": 3
   },
   "file_extension": ".py",
   "mimetype": "text/x-python",
   "name": "python",
   "nbconvert_exporter": "python",
   "pygments_lexer": "ipython3",
   "version": "3.9.12"
  }
 },
 "nbformat": 4,
 "nbformat_minor": 5
}
